{
 "cells": [
  {
   "cell_type": "markdown",
   "id": "967afcad",
   "metadata": {},
   "source": [
    "# Dataset"
   ]
  },
  {
   "cell_type": "markdown",
   "id": "df88eeb8",
   "metadata": {},
   "source": [
    "## Part 1 "
   ]
  },
  {
   "cell_type": "code",
   "execution_count": 1,
   "id": "8905a985",
   "metadata": {},
   "outputs": [],
   "source": [
    "from pathlib import Path\n",
    "import torch\n",
    "import numpy as np\n",
    "import pandas as pd\n",
    "import imgaug\n",
    "from imgaug.augmentables.bbs import BoundingBox"
   ]
  },
  {
   "cell_type": "code",
   "execution_count": 2,
   "id": "30331478",
   "metadata": {},
   "outputs": [],
   "source": [
    "class CardiacDataset(torch.utils.data.Dataset):\n",
    "    \n",
    "    def __init__(self, path_to_labels_csv, patients, root_path, augs):\n",
    "        self.labels = pd.read_csv(path_to_labels_csv)\n",
    "        self.patients = np.load(patients)\n",
    "        self.root_path = Path(root_path)\n",
    "        self.augment = augs\n",
    "    \n",
    "    \n",
    "    def __len__(self):\n",
    "        return len(self.patients)\n",
    "    \n",
    "    \n",
    "    def __getitem__(self, idx):\n",
    "        patient = self.patients[idx]\n",
    "        data = self.labels[self.labels['name'] == patient]\n",
    "        \n",
    "        # box\n",
    "        x_min = data['x0'].item()\n",
    "        y_min = data['y0'].item()\n",
    "        x_max = x_min + data['w'].item()\n",
    "        y_max = y_min + data['h'].item()\n",
    "        bbox = [x_min, y_min, x_max, y_max]\n",
    "        \n",
    "        file_path = self.root_path / patient\n",
    "        img = np.load(f'{file_path}.npy').astype(np.float32)\n",
    "        \n",
    "        # augment data and bounding box\n",
    "        if self.augment:\n",
    "            bb = BoundingBox(x1=bbox[0], y1=bbox[1], x2=bbox[2], y2=bbox[3])\n",
    "            random_seed = torch.randint(0, 10000, (1,)).item()\n",
    "            imgaug.seed(random_seed)\n",
    "            \n",
    "            img, aug_bbox = self.augment(image=img, bounding_boxes=bb)\n",
    "            bbox = aug_bbox[0][0], aug_bbox[0][1], aug_bbox[1][0], aug_bbox[1][1]\n",
    "        \n",
    "        img = (img - 0.494) / 0.252\n",
    "        img = torch.tensor(img).unsqueeze(0)\n",
    "        bbox = torch.tensor(bbox)\n",
    "        return img, bbox"
   ]
  },
  {
   "cell_type": "markdown",
   "id": "28375764",
   "metadata": {},
   "source": [
    "## Part 2 "
   ]
  },
  {
   "cell_type": "code",
   "execution_count": 3,
   "id": "4924891d",
   "metadata": {},
   "outputs": [],
   "source": [
    "import imgaug.augmenters as iaa\n",
    "import matplotlib.pyplot as plt\n",
    "import matplotlib.patches as patches"
   ]
  },
  {
   "cell_type": "code",
   "execution_count": 4,
   "id": "5ae32b6c",
   "metadata": {},
   "outputs": [],
   "source": [
    "seq = iaa.Sequential([\n",
    "    iaa.GammaContrast(),\n",
    "    iaa.Affine(scale=(0.8, 1.2),\n",
    "               rotate=(-10, 10),\n",
    "               translate_px=(-10, 10))\n",
    "])"
   ]
  },
  {
   "cell_type": "code",
   "execution_count": 7,
   "id": "6923395d",
   "metadata": {},
   "outputs": [],
   "source": [
    "labels_path = r'../05-Detection/rsna_heart_detection.csv'\n",
    "patients_path = r'Data/Pneumonia/Processed-Heart-Detection/train_subjects.npy'\n",
    "train_root = r'Data/Pneumonia/Processed-Heart-Detection/train'\n",
    "\n",
    "dataset = CardiacDataset(labels_path, patients_path, train_root, seq)"
   ]
  },
  {
   "cell_type": "code",
   "execution_count": 8,
   "id": "c7de2ec0",
   "metadata": {},
   "outputs": [
    {
     "ename": "IndexError",
     "evalue": "index 0 is out of bounds for axis 0 with size 0",
     "output_type": "error",
     "traceback": [
      "\u001b[1;31m---------------------------------------------------------------------------\u001b[0m",
      "\u001b[1;31mIndexError\u001b[0m                                Traceback (most recent call last)",
      "Input \u001b[1;32mIn [8]\u001b[0m, in \u001b[0;36m<module>\u001b[1;34m\u001b[0m\n\u001b[1;32m----> 1\u001b[0m img, bbox \u001b[38;5;241m=\u001b[39m \u001b[43mdataset\u001b[49m\u001b[43m[\u001b[49m\u001b[38;5;241;43m0\u001b[39;49m\u001b[43m]\u001b[49m\n\u001b[0;32m      3\u001b[0m fig, axis \u001b[38;5;241m=\u001b[39m plt\u001b[38;5;241m.\u001b[39msubplots(\u001b[38;5;241m1\u001b[39m, \u001b[38;5;241m1\u001b[39m)\n\u001b[0;32m      4\u001b[0m axis\u001b[38;5;241m.\u001b[39mimshow(img[\u001b[38;5;241m0\u001b[39m], cmap\u001b[38;5;241m=\u001b[39m\u001b[38;5;124m'\u001b[39m\u001b[38;5;124mbone\u001b[39m\u001b[38;5;124m'\u001b[39m)\n",
      "Input \u001b[1;32mIn [2]\u001b[0m, in \u001b[0;36mCardiacDataset.__getitem__\u001b[1;34m(self, idx)\u001b[0m\n\u001b[0;32m     14\u001b[0m \u001b[38;5;28;01mdef\u001b[39;00m \u001b[38;5;21m__getitem__\u001b[39m(\u001b[38;5;28mself\u001b[39m, idx):\n\u001b[1;32m---> 15\u001b[0m     patient \u001b[38;5;241m=\u001b[39m \u001b[38;5;28;43mself\u001b[39;49m\u001b[38;5;241;43m.\u001b[39;49m\u001b[43mpatients\u001b[49m\u001b[43m[\u001b[49m\u001b[43midx\u001b[49m\u001b[43m]\u001b[49m\n\u001b[0;32m     16\u001b[0m     data \u001b[38;5;241m=\u001b[39m \u001b[38;5;28mself\u001b[39m\u001b[38;5;241m.\u001b[39mlabels[\u001b[38;5;28mself\u001b[39m\u001b[38;5;241m.\u001b[39mlabels[\u001b[38;5;124m'\u001b[39m\u001b[38;5;124mname\u001b[39m\u001b[38;5;124m'\u001b[39m] \u001b[38;5;241m==\u001b[39m patient]\n\u001b[0;32m     18\u001b[0m     \u001b[38;5;66;03m# box\u001b[39;00m\n",
      "\u001b[1;31mIndexError\u001b[0m: index 0 is out of bounds for axis 0 with size 0"
     ]
    }
   ],
   "source": [
    "img, bbox = dataset[0]\n",
    "\n",
    "fig, axis = plt.subplots(1, 1)\n",
    "axis.imshow(img[0], cmap='bone')\n",
    "rect = patches.Rectangle(bbox[0], bbox[1], bbox[2] - bbox[0], bbox[3] - bbox[1],\n",
    "                         edgecolor='r', facecolor='none')\n",
    "axis.add_patch(rect);"
   ]
  },
  {
   "cell_type": "code",
   "execution_count": null,
   "id": "82aabb1a",
   "metadata": {},
   "outputs": [],
   "source": []
  }
 ],
 "metadata": {
  "kernelspec": {
   "display_name": "Python 3 (ipykernel)",
   "language": "python",
   "name": "python3"
  },
  "language_info": {
   "codemirror_mode": {
    "name": "ipython",
    "version": 3
   },
   "file_extension": ".py",
   "mimetype": "text/x-python",
   "name": "python",
   "nbconvert_exporter": "python",
   "pygments_lexer": "ipython3",
   "version": "3.9.0"
  }
 },
 "nbformat": 4,
 "nbformat_minor": 5
}
