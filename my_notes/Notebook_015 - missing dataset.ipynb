{
 "cells": [
  {
   "cell_type": "markdown",
   "id": "28325b1f",
   "metadata": {},
   "source": [
    "# Preprocessing"
   ]
  },
  {
   "cell_type": "code",
   "execution_count": 1,
   "id": "63a60ff4",
   "metadata": {},
   "outputs": [],
   "source": [
    "from pathlib import Path\n",
    "import pydicom\n",
    "import numpy as np\n",
    "import cv2\n",
    "import pandas as pd\n",
    "import matplotlib.pyplot as plt\n",
    "import matplotlib.patches as patches"
   ]
  },
  {
   "cell_type": "code",
   "execution_count": 2,
   "id": "5c9fbeb8",
   "metadata": {},
   "outputs": [],
   "source": [
    "labels = pd.read_csv('../05-Detection/rsna_heart_detection.csv')"
   ]
  },
  {
   "cell_type": "code",
   "execution_count": 3,
   "id": "5f360c4f",
   "metadata": {},
   "outputs": [
    {
     "data": {
      "text/html": [
       "<div>\n",
       "<style scoped>\n",
       "    .dataframe tbody tr th:only-of-type {\n",
       "        vertical-align: middle;\n",
       "    }\n",
       "\n",
       "    .dataframe tbody tr th {\n",
       "        vertical-align: top;\n",
       "    }\n",
       "\n",
       "    .dataframe thead th {\n",
       "        text-align: right;\n",
       "    }\n",
       "</style>\n",
       "<table border=\"1\" class=\"dataframe\">\n",
       "  <thead>\n",
       "    <tr style=\"text-align: right;\">\n",
       "      <th></th>\n",
       "      <th>label</th>\n",
       "      <th>x0</th>\n",
       "      <th>y0</th>\n",
       "      <th>w</th>\n",
       "      <th>h</th>\n",
       "      <th>name</th>\n",
       "      <th>img_shape_x</th>\n",
       "      <th>img_shape_y</th>\n",
       "    </tr>\n",
       "  </thead>\n",
       "  <tbody>\n",
       "    <tr>\n",
       "      <th>0</th>\n",
       "      <td>heart</td>\n",
       "      <td>91</td>\n",
       "      <td>71</td>\n",
       "      <td>77</td>\n",
       "      <td>102</td>\n",
       "      <td>ca112a3c-b701-48b8-a94f-725ea65416a7</td>\n",
       "      <td>224</td>\n",
       "      <td>224</td>\n",
       "    </tr>\n",
       "    <tr>\n",
       "      <th>1</th>\n",
       "      <td>heart</td>\n",
       "      <td>70</td>\n",
       "      <td>64</td>\n",
       "      <td>89</td>\n",
       "      <td>67</td>\n",
       "      <td>e5f292ae-f1e5-497c-b0a0-68f1aa2196b2</td>\n",
       "      <td>224</td>\n",
       "      <td>224</td>\n",
       "    </tr>\n",
       "    <tr>\n",
       "      <th>2</th>\n",
       "      <td>heart</td>\n",
       "      <td>82</td>\n",
       "      <td>55</td>\n",
       "      <td>81</td>\n",
       "      <td>76</td>\n",
       "      <td>67af68f7-7ba0-49a0-a373-3a8801eb0faa</td>\n",
       "      <td>224</td>\n",
       "      <td>224</td>\n",
       "    </tr>\n",
       "    <tr>\n",
       "      <th>3</th>\n",
       "      <td>heart</td>\n",
       "      <td>93</td>\n",
       "      <td>74</td>\n",
       "      <td>78</td>\n",
       "      <td>89</td>\n",
       "      <td>814289a3-9ce8-4cba-842f-45d6a36f540d</td>\n",
       "      <td>224</td>\n",
       "      <td>224</td>\n",
       "    </tr>\n",
       "    <tr>\n",
       "      <th>4</th>\n",
       "      <td>heart</td>\n",
       "      <td>85</td>\n",
       "      <td>61</td>\n",
       "      <td>85</td>\n",
       "      <td>93</td>\n",
       "      <td>e508969f-c931-462b-aa90-ccde34a4d9e5</td>\n",
       "      <td>224</td>\n",
       "      <td>224</td>\n",
       "    </tr>\n",
       "  </tbody>\n",
       "</table>\n",
       "</div>"
      ],
      "text/plain": [
       "   label  x0  y0   w    h                                  name  img_shape_x  \\\n",
       "0  heart  91  71  77  102  ca112a3c-b701-48b8-a94f-725ea65416a7          224   \n",
       "1  heart  70  64  89   67  e5f292ae-f1e5-497c-b0a0-68f1aa2196b2          224   \n",
       "2  heart  82  55  81   76  67af68f7-7ba0-49a0-a373-3a8801eb0faa          224   \n",
       "3  heart  93  74  78   89  814289a3-9ce8-4cba-842f-45d6a36f540d          224   \n",
       "4  heart  85  61  85   93  e508969f-c931-462b-aa90-ccde34a4d9e5          224   \n",
       "\n",
       "   img_shape_y  \n",
       "0          224  \n",
       "1          224  \n",
       "2          224  \n",
       "3          224  \n",
       "4          224  "
      ]
     },
     "execution_count": 3,
     "metadata": {},
     "output_type": "execute_result"
    }
   ],
   "source": [
    "labels.head()"
   ]
  },
  {
   "cell_type": "code",
   "execution_count": 13,
   "id": "f4a506d1",
   "metadata": {},
   "outputs": [],
   "source": [
    "ROOT_PATH = Path('Data/Pneumonia/stage_2_train_images/')\n",
    "SAVE_PATH = Path('Data/Pneumonia/Processed-Heart-Detection')"
   ]
  },
  {
   "cell_type": "code",
   "execution_count": 14,
   "id": "0b346bd9",
   "metadata": {},
   "outputs": [
    {
     "ename": "FileNotFoundError",
     "evalue": "[Errno 2] No such file or directory: 'Data\\\\Pneumonia\\\\stage_2_train_images\\\\ca112a3c-b701-48b8-a94f-725ea65416a7.dcm'",
     "output_type": "error",
     "traceback": [
      "\u001b[1;31m---------------------------------------------------------------------------\u001b[0m",
      "\u001b[1;31mFileNotFoundError\u001b[0m                         Traceback (most recent call last)",
      "Input \u001b[1;32mIn [14]\u001b[0m, in \u001b[0;36m<module>\u001b[1;34m\u001b[0m\n\u001b[0;32m      9\u001b[0m dcm_path \u001b[38;5;241m=\u001b[39m ROOT_PATH \u001b[38;5;241m/\u001b[39m \u001b[38;5;28mstr\u001b[39m(patient_id)\n\u001b[0;32m     10\u001b[0m dcm_path \u001b[38;5;241m=\u001b[39m dcm_path\u001b[38;5;241m.\u001b[39mwith_suffix(\u001b[38;5;124m'\u001b[39m\u001b[38;5;124m.dcm\u001b[39m\u001b[38;5;124m'\u001b[39m)\n\u001b[1;32m---> 12\u001b[0m dcm \u001b[38;5;241m=\u001b[39m \u001b[43mpydicom\u001b[49m\u001b[38;5;241;43m.\u001b[39;49m\u001b[43mread_file\u001b[49m\u001b[43m(\u001b[49m\u001b[43mdcm_path\u001b[49m\u001b[43m)\u001b[49m\n\u001b[0;32m     13\u001b[0m dcm_array \u001b[38;5;241m=\u001b[39m dcm\u001b[38;5;241m.\u001b[39mpixel_array\n\u001b[0;32m     14\u001b[0m dcm_array \u001b[38;5;241m=\u001b[39m cv2\u001b[38;5;241m.\u001b[39mresize(dcm_array, (\u001b[38;5;241m224\u001b[39m, \u001b[38;5;241m224\u001b[39m))\n",
      "File \u001b[1;32m~\\anaconda3\\envs\\pytorch39\\lib\\site-packages\\pydicom\\filereader.py:1001\u001b[0m, in \u001b[0;36mdcmread\u001b[1;34m(fp, defer_size, stop_before_pixels, force, specific_tags)\u001b[0m\n\u001b[0;32m    999\u001b[0m     caller_owns_file \u001b[38;5;241m=\u001b[39m \u001b[38;5;28;01mFalse\u001b[39;00m\n\u001b[0;32m   1000\u001b[0m     logger\u001b[38;5;241m.\u001b[39mdebug(\u001b[38;5;124m\"\u001b[39m\u001b[38;5;124mReading file \u001b[39m\u001b[38;5;124m'\u001b[39m\u001b[38;5;132;01m{0}\u001b[39;00m\u001b[38;5;124m'\u001b[39m\u001b[38;5;124m\"\u001b[39m\u001b[38;5;241m.\u001b[39mformat(fp))\n\u001b[1;32m-> 1001\u001b[0m     fp \u001b[38;5;241m=\u001b[39m \u001b[38;5;28;43mopen\u001b[39;49m\u001b[43m(\u001b[49m\u001b[43mfp\u001b[49m\u001b[43m,\u001b[49m\u001b[43m \u001b[49m\u001b[38;5;124;43m'\u001b[39;49m\u001b[38;5;124;43mrb\u001b[39;49m\u001b[38;5;124;43m'\u001b[39;49m\u001b[43m)\u001b[49m\n\u001b[0;32m   1002\u001b[0m \u001b[38;5;28;01melif\u001b[39;00m fp \u001b[38;5;129;01mis\u001b[39;00m \u001b[38;5;28;01mNone\u001b[39;00m \u001b[38;5;129;01mor\u001b[39;00m \u001b[38;5;129;01mnot\u001b[39;00m \u001b[38;5;28mhasattr\u001b[39m(fp, \u001b[38;5;124m\"\u001b[39m\u001b[38;5;124mread\u001b[39m\u001b[38;5;124m\"\u001b[39m) \u001b[38;5;129;01mor\u001b[39;00m \u001b[38;5;129;01mnot\u001b[39;00m \u001b[38;5;28mhasattr\u001b[39m(fp, \u001b[38;5;124m\"\u001b[39m\u001b[38;5;124mseek\u001b[39m\u001b[38;5;124m\"\u001b[39m):\n\u001b[0;32m   1003\u001b[0m     \u001b[38;5;28;01mraise\u001b[39;00m \u001b[38;5;167;01mTypeError\u001b[39;00m(\u001b[38;5;124m\"\u001b[39m\u001b[38;5;124mdcmread: Expected a file path or a file-like, \u001b[39m\u001b[38;5;124m\"\u001b[39m\n\u001b[0;32m   1004\u001b[0m                     \u001b[38;5;124m\"\u001b[39m\u001b[38;5;124mbut got \u001b[39m\u001b[38;5;124m\"\u001b[39m \u001b[38;5;241m+\u001b[39m \u001b[38;5;28mtype\u001b[39m(fp)\u001b[38;5;241m.\u001b[39m\u001b[38;5;18m__name__\u001b[39m)\n",
      "\u001b[1;31mFileNotFoundError\u001b[0m: [Errno 2] No such file or directory: 'Data\\\\Pneumonia\\\\stage_2_train_images\\\\ca112a3c-b701-48b8-a94f-725ea65416a7.dcm'"
     ]
    },
    {
     "data": {
      "image/png": "[encoded data removed]",
      "text/plain": [
       "<Figure size 432x288 with 4 Axes>"
      ]
     },
     "metadata": {
      "needs_background": "light"
     },
     "output_type": "display_data"
    }
   ],
   "source": [
    "fix, axis = plt.subplots(2, 2)\n",
    "\n",
    "c = 0\n",
    "for i in range(2):\n",
    "    for j in range(2):\n",
    "        data = labels.iloc[c]\n",
    "        patient_id = data['name']\n",
    "        \n",
    "        dcm_path = ROOT_PATH / str(patient_id)\n",
    "        dcm_path = dcm_path.with_suffix('.dcm')\n",
    "        \n",
    "        dcm = pydicom.read_file(dcm_path)\n",
    "        dcm_array = dcm.pixel_array\n",
    "        dcm_array = cv2.resize(dcm_array, (224, 224))\n",
    "        \n",
    "        x = data['x0']\n",
    "        y = data['y0']\n",
    "        width = data['w']\n",
    "        height = data['h']\n",
    "        \n",
    "        axis[i][j].imshow(dcm_array, cmap='bone')\n",
    "        rect = patches.Rectangle((x, y), width, height, linewidth=1, edgecolor='r', facecolor='r')\n",
    "        axis[i][j].add_patch(rect)\n",
    "        \n",
    "        c += 1"
   ]
  },
  {
   "cell_type": "code",
   "execution_count": 15,
   "id": "59ae49df",
   "metadata": {},
   "outputs": [
    {
     "ename": "FileNotFoundError",
     "evalue": "[Errno 2] No such file or directory: 'Data\\\\Pneumonia\\\\stage_2_train_images\\\\ca112a3c-b701-48b8-a94f-725ea65416a7.dcm'",
     "output_type": "error",
     "traceback": [
      "\u001b[1;31m---------------------------------------------------------------------------\u001b[0m",
      "\u001b[1;31mFileNotFoundError\u001b[0m                         Traceback (most recent call last)",
      "Input \u001b[1;32mIn [15]\u001b[0m, in \u001b[0;36m<module>\u001b[1;34m\u001b[0m\n\u001b[0;32m      7\u001b[0m dcm_path \u001b[38;5;241m=\u001b[39m ROOT_PATH \u001b[38;5;241m/\u001b[39m \u001b[38;5;28mstr\u001b[39m(patient_id)\n\u001b[0;32m      8\u001b[0m dcm_path \u001b[38;5;241m=\u001b[39m dcm_path\u001b[38;5;241m.\u001b[39mwith_suffix(\u001b[38;5;124m'\u001b[39m\u001b[38;5;124m.dcm\u001b[39m\u001b[38;5;124m'\u001b[39m)\n\u001b[1;32m---> 10\u001b[0m dcm \u001b[38;5;241m=\u001b[39m \u001b[43mpydicom\u001b[49m\u001b[38;5;241;43m.\u001b[39;49m\u001b[43mread_file\u001b[49m\u001b[43m(\u001b[49m\u001b[43mdcm_path\u001b[49m\u001b[43m)\u001b[49m\n\u001b[0;32m     11\u001b[0m dcm_array \u001b[38;5;241m=\u001b[39m dcm\u001b[38;5;241m.\u001b[39mpixel_array\n\u001b[0;32m     12\u001b[0m dcm_array \u001b[38;5;241m=\u001b[39m (cv2\u001b[38;5;241m.\u001b[39mresize(dcm_array, (\u001b[38;5;241m224\u001b[39m, \u001b[38;5;241m224\u001b[39m)) \u001b[38;5;241m/\u001b[39m \u001b[38;5;241m255\u001b[39m)\u001b[38;5;241m.\u001b[39mastype(np\u001b[38;5;241m.\u001b[39mfloat16)\n",
      "File \u001b[1;32m~\\anaconda3\\envs\\pytorch39\\lib\\site-packages\\pydicom\\filereader.py:1001\u001b[0m, in \u001b[0;36mdcmread\u001b[1;34m(fp, defer_size, stop_before_pixels, force, specific_tags)\u001b[0m\n\u001b[0;32m    999\u001b[0m     caller_owns_file \u001b[38;5;241m=\u001b[39m \u001b[38;5;28;01mFalse\u001b[39;00m\n\u001b[0;32m   1000\u001b[0m     logger\u001b[38;5;241m.\u001b[39mdebug(\u001b[38;5;124m\"\u001b[39m\u001b[38;5;124mReading file \u001b[39m\u001b[38;5;124m'\u001b[39m\u001b[38;5;132;01m{0}\u001b[39;00m\u001b[38;5;124m'\u001b[39m\u001b[38;5;124m\"\u001b[39m\u001b[38;5;241m.\u001b[39mformat(fp))\n\u001b[1;32m-> 1001\u001b[0m     fp \u001b[38;5;241m=\u001b[39m \u001b[38;5;28;43mopen\u001b[39;49m\u001b[43m(\u001b[49m\u001b[43mfp\u001b[49m\u001b[43m,\u001b[49m\u001b[43m \u001b[49m\u001b[38;5;124;43m'\u001b[39;49m\u001b[38;5;124;43mrb\u001b[39;49m\u001b[38;5;124;43m'\u001b[39;49m\u001b[43m)\u001b[49m\n\u001b[0;32m   1002\u001b[0m \u001b[38;5;28;01melif\u001b[39;00m fp \u001b[38;5;129;01mis\u001b[39;00m \u001b[38;5;28;01mNone\u001b[39;00m \u001b[38;5;129;01mor\u001b[39;00m \u001b[38;5;129;01mnot\u001b[39;00m \u001b[38;5;28mhasattr\u001b[39m(fp, \u001b[38;5;124m\"\u001b[39m\u001b[38;5;124mread\u001b[39m\u001b[38;5;124m\"\u001b[39m) \u001b[38;5;129;01mor\u001b[39;00m \u001b[38;5;129;01mnot\u001b[39;00m \u001b[38;5;28mhasattr\u001b[39m(fp, \u001b[38;5;124m\"\u001b[39m\u001b[38;5;124mseek\u001b[39m\u001b[38;5;124m\"\u001b[39m):\n\u001b[0;32m   1003\u001b[0m     \u001b[38;5;28;01mraise\u001b[39;00m \u001b[38;5;167;01mTypeError\u001b[39;00m(\u001b[38;5;124m\"\u001b[39m\u001b[38;5;124mdcmread: Expected a file path or a file-like, \u001b[39m\u001b[38;5;124m\"\u001b[39m\n\u001b[0;32m   1004\u001b[0m                     \u001b[38;5;124m\"\u001b[39m\u001b[38;5;124mbut got \u001b[39m\u001b[38;5;124m\"\u001b[39m \u001b[38;5;241m+\u001b[39m \u001b[38;5;28mtype\u001b[39m(fp)\u001b[38;5;241m.\u001b[39m\u001b[38;5;18m__name__\u001b[39m)\n",
      "\u001b[1;31mFileNotFoundError\u001b[0m: [Errno 2] No such file or directory: 'Data\\\\Pneumonia\\\\stage_2_train_images\\\\ca112a3c-b701-48b8-a94f-725ea65416a7.dcm'"
     ]
    }
   ],
   "source": [
    "sums, sums_squared = 0, 0\n",
    "\n",
    "train_ids = []\n",
    "val_ids = []\n",
    "\n",
    "for counter, patient_id in enumerate(list(labels.name)):\n",
    "    dcm_path = ROOT_PATH / str(patient_id)\n",
    "    dcm_path = dcm_path.with_suffix('.dcm')\n",
    "        \n",
    "    dcm = pydicom.read_file(dcm_path)\n",
    "    dcm_array = dcm.pixel_array\n",
    "    dcm_array = (cv2.resize(dcm_array, (224, 224)) / 255).astype(np.float16)\n",
    "    \n",
    "    train_or_val = 'train' if counter < 400 else 'val'\n",
    "    \n",
    "    if train_or_val == 'train':\n",
    "        train_ids.append(patient_id)\n",
    "    else:\n",
    "        val_ids.append(patient_id)\n",
    "    \n",
    "    current_save_path = SAVE_PATH / train_or_val\n",
    "    current_save_path.mkdir(parents=True, exist_ok=True)\n",
    "    \n",
    "    np.save(current_save_path / patient_id, dcm_array)\n",
    "    \n",
    "    normalizer = 224 * 224\n",
    "    if train_or_val == 'train':\n",
    "        sums += np.sum(dcm_array) / normalizer\n",
    "        sums_squared += (dcm_array ** 2).sum() / normalizer"
   ]
  },
  {
   "cell_type": "code",
   "execution_count": 16,
   "id": "9fd56e04",
   "metadata": {},
   "outputs": [],
   "source": [
    "np.save('Data/Pneumonia/Processed-Heart-Detection/train_subjects', train_ids)\n",
    "np.save('Data/Pneumonia/Processed-Heart-Detection/val_subjects', val_ids)"
   ]
  },
  {
   "cell_type": "code",
   "execution_count": 17,
   "id": "d2b4140d",
   "metadata": {},
   "outputs": [
    {
     "ename": "ZeroDivisionError",
     "evalue": "division by zero",
     "output_type": "error",
     "traceback": [
      "\u001b[1;31m---------------------------------------------------------------------------\u001b[0m",
      "\u001b[1;31mZeroDivisionError\u001b[0m                         Traceback (most recent call last)",
      "Input \u001b[1;32mIn [17]\u001b[0m, in \u001b[0;36m<module>\u001b[1;34m\u001b[0m\n\u001b[1;32m----> 1\u001b[0m mean \u001b[38;5;241m=\u001b[39m \u001b[43msums\u001b[49m\u001b[43m \u001b[49m\u001b[38;5;241;43m/\u001b[39;49m\u001b[43m \u001b[49m\u001b[38;5;28;43mlen\u001b[39;49m\u001b[43m(\u001b[49m\u001b[43mtrain_ids\u001b[49m\u001b[43m)\u001b[49m\n\u001b[0;32m      2\u001b[0m std \u001b[38;5;241m=\u001b[39m np\u001b[38;5;241m.\u001b[39msqrt((sums_squared \u001b[38;5;241m/\u001b[39m \u001b[38;5;28mlen\u001b[39m(train_ids)) \u001b[38;5;241m-\u001b[39m mean \u001b[38;5;241m*\u001b[39m\u001b[38;5;241m*\u001b[39m \u001b[38;5;241m2\u001b[39m)\n",
      "\u001b[1;31mZeroDivisionError\u001b[0m: division by zero"
     ]
    }
   ],
   "source": [
    "mean = sums / len(train_ids)\n",
    "std = np.sqrt((sums_squared / len(train_ids)) - mean ** 2)"
   ]
  },
  {
   "cell_type": "code",
   "execution_count": 18,
   "id": "6a09dec2",
   "metadata": {},
   "outputs": [
    {
     "ename": "NameError",
     "evalue": "name 'mean' is not defined",
     "output_type": "error",
     "traceback": [
      "\u001b[1;31m---------------------------------------------------------------------------\u001b[0m",
      "\u001b[1;31mNameError\u001b[0m                                 Traceback (most recent call last)",
      "Input \u001b[1;32mIn [18]\u001b[0m, in \u001b[0;36m<module>\u001b[1;34m\u001b[0m\n\u001b[1;32m----> 1\u001b[0m \u001b[43mmean\u001b[49m, std\n",
      "\u001b[1;31mNameError\u001b[0m: name 'mean' is not defined"
     ]
    }
   ],
   "source": [
    "mean, std"
   ]
  },
  {
   "cell_type": "code",
   "execution_count": null,
   "id": "a165b2c9",
   "metadata": {},
   "outputs": [],
   "source": []
  }
 ],
 "metadata": {
  "kernelspec": {
   "display_name": "Python 3 (ipykernel)",
   "language": "python",
   "name": "python3"
  },
  "language_info": {
   "codemirror_mode": {
    "name": "ipython",
    "version": 3
   },
   "file_extension": ".py",
   "mimetype": "text/x-python",
   "name": "python",
   "nbconvert_exporter": "python",
   "pygments_lexer": "ipython3",
   "version": "3.9.0"
  }
 },
 "nbformat": 4,
 "nbformat_minor": 5
}
